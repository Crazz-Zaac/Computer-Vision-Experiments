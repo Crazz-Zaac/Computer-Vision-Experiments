{
 "cells": [
  {
   "cell_type": "markdown",
   "metadata": {},
   "source": [
    "## Example"
   ]
  },
  {
   "cell_type": "code",
   "execution_count": 3,
   "metadata": {},
   "outputs": [
    {
     "name": "stdout",
     "output_type": "stream",
     "text": [
      "Data type: DataType.TRAIN, Number of images: 131165\n"
     ]
    }
   ],
   "source": [
    "import sys\n",
    "sys.path.append(\"../\")\n",
    "\n",
    "from cv_expt.base.data.base_dataset import ImageDataset, ImageDataType\n",
    "from cv_expt.base.defs.defs import ImageChannel, DataType\n",
    "from cv_expt.base.logger.base_logger import BaseLogger, BaseLoggerConfig\n",
    "from cv_expt.base.configs.configs import TrainerConfig, DataConfig\n",
    "from cv_expt.vis.visualization import subplot_images\n",
    "from cv_expt.base.logger.base_logger import BaseLogger\n",
    "from cv_expt.base.models.base_model import ModelWrapper\n",
    "from cv_expt.base.trainer.base_trainer import Trainer\n",
    "\n",
    "from pathlib import Path\n",
    "from typing import Optional\n",
    "import torch\n",
    "import cv2\n",
    "import numpy as np\n",
    "from tqdm import tqdm  # for progress bar\n",
    "from torch import nn\n",
    "from torch.optim import Optimizer\n",
    "import segmentation_models_pytorch as smp\n",
    "import datetime\n",
    "\n",
    "data_config = DataConfig(\n",
    "    data_path=Path(\"../data/coco2017\"),\n",
    "    image_channels=ImageChannel.RGB,\n",
    "    image_extensions=[\"jpg\", \"png\"],\n",
    "    max_data=-1,\n",
    "    samples_per_epoch=2000,\n",
    ")\n",
    "train_dataset = ImageDataset(\n",
    "    data_config,\n",
    "    return_type=ImageDataType.TENSOR,\n",
    "    normalization=lambda x: x / 255.0,\n",
    "    denormalization=lambda x: (x * 255.0),\n",
    ")\n",
    "data_config.samples_per_epoch = 100\n",
    "val_dataset = ImageDataset(\n",
    "    data_config,\n",
    "    data_type=DataType.VALIDATION,\n",
    "    return_type=ImageDataType.TENSOR,\n",
    "    normalization=lambda x: x / 255.0,\n",
    "    denormalization=lambda x: (x * 255.0),\n",
    ")\n",
    "\n",
    "config = TrainerConfig(\n",
    "    result_dir=Path(\"../results\"),\n",
    "    expt_name=\"expt1\",\n",
    "    run_name=f\"run_{datetime.datetime.now().date()}\",\n",
    "    epochs=100,\n",
    "    show_images=True,\n",
    ")\n",
    "model = smp.Unet(\"resnet18\", classes=3, in_channels=1, activation=\"sigmoid\")\n",
    "model = ModelWrapper(\n",
    "    model,\n",
    "    postprocess=val_dataset.denormalization,\n",
    "    preprocess=val_dataset.normalization,\n",
    ")\n",
    "\n",
    "optimizer = torch.optim.Adam(model.parameters())\n",
    "criterion = nn.MSELoss()\n",
    "trainer = Trainer(\n",
    "    model,\n",
    "    config,\n",
    "    optimizer,\n",
    "    criterion,\n",
    "    BaseLogger(BaseLoggerConfig(log_path=config.result_dir, name='gray2rgb')),\n",
    "    train_dataset,\n",
    "    val_dataset,\n",
    ")\n",
    "trainer.train()"
   ]
  },
  {
   "cell_type": "markdown",
   "metadata": {},
   "source": [
    "## Inference of Some Unseen Images"
   ]
  },
  {
   "cell_type": "code",
   "execution_count": null,
   "metadata": {},
   "outputs": [
    {
     "name": "stdout",
     "output_type": "stream",
     "text": [
      "/home/blackphoenix/projects/computer-vision-experiments/venv/bin/python\n"
     ]
    }
   ],
   "source": [
    "!which python"
   ]
  },
  {
   "cell_type": "code",
   "execution_count": null,
   "metadata": {},
   "outputs": [
    {
     "name": "stdout",
     "output_type": "stream",
     "text": [
      "Obtaining file:///home/blackphoenix/projects/computer-vision-experiments\n",
      "  Installing build dependencies ... \u001b[?25ldone\n",
      "\u001b[?25h  Checking if build backend supports build_editable ... \u001b[?25ldone\n",
      "\u001b[?25h  Getting requirements to build editable ... \u001b[?25ldone\n",
      "\u001b[?25h  Preparing editable metadata (pyproject.toml) ... \u001b[?25ldone\n",
      "\u001b[?25hRequirement already satisfied: numpy in /home/blackphoenix/projects/computer-vision-experiments/venv/lib/python3.11/site-packages (from cv_expt==0.1) (1.26.4)\n",
      "Requirement already satisfied: matplotlib in /home/blackphoenix/projects/computer-vision-experiments/venv/lib/python3.11/site-packages (from cv_expt==0.1) (3.9.2)\n",
      "Requirement already satisfied: opencv-python in /home/blackphoenix/projects/computer-vision-experiments/venv/lib/python3.11/site-packages (from cv_expt==0.1) (4.10.0.84)\n",
      "Requirement already satisfied: scikit-image in /home/blackphoenix/projects/computer-vision-experiments/venv/lib/python3.11/site-packages (from cv_expt==0.1) (0.24.0)\n",
      "Requirement already satisfied: scikit-learn in /home/blackphoenix/projects/computer-vision-experiments/venv/lib/python3.11/site-packages (from cv_expt==0.1) (1.5.1)\n",
      "Requirement already satisfied: scipy in /home/blackphoenix/projects/computer-vision-experiments/venv/lib/python3.11/site-packages (from cv_expt==0.1) (1.14.1)\n",
      "Requirement already satisfied: torch==2.2.0 in /home/blackphoenix/projects/computer-vision-experiments/venv/lib/python3.11/site-packages (from cv_expt==0.1) (2.2.0)\n",
      "Requirement already satisfied: tqdm in /home/blackphoenix/projects/computer-vision-experiments/venv/lib/python3.11/site-packages (from cv_expt==0.1) (4.66.4)\n",
      "Requirement already satisfied: filelock in /home/blackphoenix/projects/computer-vision-experiments/venv/lib/python3.11/site-packages (from torch==2.2.0->cv_expt==0.1) (3.15.4)\n",
      "Requirement already satisfied: typing-extensions>=4.8.0 in /home/blackphoenix/projects/computer-vision-experiments/venv/lib/python3.11/site-packages (from torch==2.2.0->cv_expt==0.1) (4.12.2)\n",
      "Requirement already satisfied: sympy in /home/blackphoenix/projects/computer-vision-experiments/venv/lib/python3.11/site-packages (from torch==2.2.0->cv_expt==0.1) (1.13.2)\n",
      "Requirement already satisfied: networkx in /home/blackphoenix/projects/computer-vision-experiments/venv/lib/python3.11/site-packages (from torch==2.2.0->cv_expt==0.1) (3.3)\n",
      "Requirement already satisfied: jinja2 in /home/blackphoenix/projects/computer-vision-experiments/venv/lib/python3.11/site-packages (from torch==2.2.0->cv_expt==0.1) (3.1.4)\n",
      "Requirement already satisfied: fsspec in /home/blackphoenix/projects/computer-vision-experiments/venv/lib/python3.11/site-packages (from torch==2.2.0->cv_expt==0.1) (2024.6.1)\n",
      "Requirement already satisfied: nvidia-cuda-nvrtc-cu12==12.1.105 in /home/blackphoenix/projects/computer-vision-experiments/venv/lib/python3.11/site-packages (from torch==2.2.0->cv_expt==0.1) (12.1.105)\n",
      "Requirement already satisfied: nvidia-cuda-runtime-cu12==12.1.105 in /home/blackphoenix/projects/computer-vision-experiments/venv/lib/python3.11/site-packages (from torch==2.2.0->cv_expt==0.1) (12.1.105)\n",
      "Requirement already satisfied: nvidia-cuda-cupti-cu12==12.1.105 in /home/blackphoenix/projects/computer-vision-experiments/venv/lib/python3.11/site-packages (from torch==2.2.0->cv_expt==0.1) (12.1.105)\n",
      "Requirement already satisfied: nvidia-cudnn-cu12==8.9.2.26 in /home/blackphoenix/projects/computer-vision-experiments/venv/lib/python3.11/site-packages (from torch==2.2.0->cv_expt==0.1) (8.9.2.26)\n",
      "Requirement already satisfied: nvidia-cublas-cu12==12.1.3.1 in /home/blackphoenix/projects/computer-vision-experiments/venv/lib/python3.11/site-packages (from torch==2.2.0->cv_expt==0.1) (12.1.3.1)\n",
      "Requirement already satisfied: nvidia-cufft-cu12==11.0.2.54 in /home/blackphoenix/projects/computer-vision-experiments/venv/lib/python3.11/site-packages (from torch==2.2.0->cv_expt==0.1) (11.0.2.54)\n",
      "Requirement already satisfied: nvidia-curand-cu12==10.3.2.106 in /home/blackphoenix/projects/computer-vision-experiments/venv/lib/python3.11/site-packages (from torch==2.2.0->cv_expt==0.1) (10.3.2.106)\n",
      "Requirement already satisfied: nvidia-cusolver-cu12==11.4.5.107 in /home/blackphoenix/projects/computer-vision-experiments/venv/lib/python3.11/site-packages (from torch==2.2.0->cv_expt==0.1) (11.4.5.107)\n",
      "Requirement already satisfied: nvidia-cusparse-cu12==12.1.0.106 in /home/blackphoenix/projects/computer-vision-experiments/venv/lib/python3.11/site-packages (from torch==2.2.0->cv_expt==0.1) (12.1.0.106)\n",
      "Requirement already satisfied: nvidia-nccl-cu12==2.19.3 in /home/blackphoenix/projects/computer-vision-experiments/venv/lib/python3.11/site-packages (from torch==2.2.0->cv_expt==0.1) (2.19.3)\n",
      "Requirement already satisfied: nvidia-nvtx-cu12==12.1.105 in /home/blackphoenix/projects/computer-vision-experiments/venv/lib/python3.11/site-packages (from torch==2.2.0->cv_expt==0.1) (12.1.105)\n",
      "Requirement already satisfied: triton==2.2.0 in /home/blackphoenix/projects/computer-vision-experiments/venv/lib/python3.11/site-packages (from torch==2.2.0->cv_expt==0.1) (2.2.0)\n",
      "Requirement already satisfied: nvidia-nvjitlink-cu12 in /home/blackphoenix/projects/computer-vision-experiments/venv/lib/python3.11/site-packages (from nvidia-cusolver-cu12==11.4.5.107->torch==2.2.0->cv_expt==0.1) (12.6.20)\n",
      "Requirement already satisfied: contourpy>=1.0.1 in /home/blackphoenix/projects/computer-vision-experiments/venv/lib/python3.11/site-packages (from matplotlib->cv_expt==0.1) (1.2.1)\n",
      "Requirement already satisfied: cycler>=0.10 in /home/blackphoenix/projects/computer-vision-experiments/venv/lib/python3.11/site-packages (from matplotlib->cv_expt==0.1) (0.12.1)\n",
      "Requirement already satisfied: fonttools>=4.22.0 in /home/blackphoenix/projects/computer-vision-experiments/venv/lib/python3.11/site-packages (from matplotlib->cv_expt==0.1) (4.53.1)\n",
      "Requirement already satisfied: kiwisolver>=1.3.1 in /home/blackphoenix/projects/computer-vision-experiments/venv/lib/python3.11/site-packages (from matplotlib->cv_expt==0.1) (1.4.5)\n",
      "Requirement already satisfied: packaging>=20.0 in /home/blackphoenix/projects/computer-vision-experiments/venv/lib/python3.11/site-packages (from matplotlib->cv_expt==0.1) (24.1)\n",
      "Requirement already satisfied: pillow>=8 in /home/blackphoenix/projects/computer-vision-experiments/venv/lib/python3.11/site-packages (from matplotlib->cv_expt==0.1) (10.4.0)\n",
      "Requirement already satisfied: pyparsing>=2.3.1 in /home/blackphoenix/projects/computer-vision-experiments/venv/lib/python3.11/site-packages (from matplotlib->cv_expt==0.1) (3.1.2)\n",
      "Requirement already satisfied: python-dateutil>=2.7 in /home/blackphoenix/projects/computer-vision-experiments/venv/lib/python3.11/site-packages (from matplotlib->cv_expt==0.1) (2.9.0.post0)\n",
      "Requirement already satisfied: imageio>=2.33 in /home/blackphoenix/projects/computer-vision-experiments/venv/lib/python3.11/site-packages (from scikit-image->cv_expt==0.1) (2.35.1)\n",
      "Requirement already satisfied: tifffile>=2022.8.12 in /home/blackphoenix/projects/computer-vision-experiments/venv/lib/python3.11/site-packages (from scikit-image->cv_expt==0.1) (2024.8.10)\n",
      "Requirement already satisfied: lazy-loader>=0.4 in /home/blackphoenix/projects/computer-vision-experiments/venv/lib/python3.11/site-packages (from scikit-image->cv_expt==0.1) (0.4)\n",
      "Requirement already satisfied: joblib>=1.2.0 in /home/blackphoenix/projects/computer-vision-experiments/venv/lib/python3.11/site-packages (from scikit-learn->cv_expt==0.1) (1.4.2)\n",
      "Requirement already satisfied: threadpoolctl>=3.1.0 in /home/blackphoenix/projects/computer-vision-experiments/venv/lib/python3.11/site-packages (from scikit-learn->cv_expt==0.1) (3.5.0)\n",
      "Requirement already satisfied: six>=1.5 in /home/blackphoenix/projects/computer-vision-experiments/venv/lib/python3.11/site-packages (from python-dateutil>=2.7->matplotlib->cv_expt==0.1) (1.16.0)\n",
      "Requirement already satisfied: MarkupSafe>=2.0 in /home/blackphoenix/projects/computer-vision-experiments/venv/lib/python3.11/site-packages (from jinja2->torch==2.2.0->cv_expt==0.1) (2.1.5)\n",
      "Requirement already satisfied: mpmath<1.4,>=1.1.0 in /home/blackphoenix/projects/computer-vision-experiments/venv/lib/python3.11/site-packages (from sympy->torch==2.2.0->cv_expt==0.1) (1.3.0)\n",
      "Building wheels for collected packages: cv_expt\n",
      "  Building editable for cv_expt (pyproject.toml) ... \u001b[?25ldone\n",
      "\u001b[?25h  Created wheel for cv_expt: filename=cv_expt-0.1-0.editable-py3-none-any.whl size=9077 sha256=25d82140553947abd2ba2a77463ae332c7e4fc04ef0511540fdb073755cd2361\n",
      "  Stored in directory: /tmp/pip-ephem-wheel-cache-9p5eo7wf/wheels/ab/0d/cf/3387bf30d53f89e8cd19fd9f391bcd3fb9d310b6f0f9dcba94\n",
      "Successfully built cv_expt\n",
      "Installing collected packages: cv_expt\n",
      "  Attempting uninstall: cv_expt\n",
      "    Found existing installation: cv_expt 0.1\n",
      "    Uninstalling cv_expt-0.1:\n",
      "      Successfully uninstalled cv_expt-0.1\n",
      "Successfully installed cv_expt-0.1\n",
      "\n",
      "\u001b[1m[\u001b[0m\u001b[34;49mnotice\u001b[0m\u001b[1;39;49m]\u001b[0m\u001b[39;49m A new release of pip is available: \u001b[0m\u001b[31;49m24.0\u001b[0m\u001b[39;49m -> \u001b[0m\u001b[32;49m24.2\u001b[0m\n",
      "\u001b[1m[\u001b[0m\u001b[34;49mnotice\u001b[0m\u001b[1;39;49m]\u001b[0m\u001b[39;49m To update, run: \u001b[0m\u001b[32;49mpip install --upgrade pip\u001b[0m\n"
     ]
    }
   ],
   "source": [
    "!pip install -e /home/blackphoenix/projects/computer-vision-experiments/"
   ]
  },
  {
   "cell_type": "code",
   "execution_count": null,
   "metadata": {},
   "outputs": [
    {
     "name": "stdout",
     "output_type": "stream",
     "text": [
      "/home/blackphoenix/projects/computer-vision-experiments/notebooks\n"
     ]
    }
   ],
   "source": []
  },
  {
   "cell_type": "code",
   "execution_count": null,
   "metadata": {},
   "outputs": [
    {
     "ename": "ModuleNotFoundError",
     "evalue": "No module named 'cv_expt'",
     "output_type": "error",
     "traceback": [
      "\u001b[0;31m---------------------------------------------------------------------------\u001b[0m",
      "\u001b[0;31mModuleNotFoundError\u001b[0m                       Traceback (most recent call last)",
      "Cell \u001b[0;32mIn[6], line 1\u001b[0m\n\u001b[0;32m----> 1\u001b[0m \u001b[38;5;28;01mimport\u001b[39;00m \u001b[38;5;21;01mcv_expt\u001b[39;00m\n",
      "\u001b[0;31mModuleNotFoundError\u001b[0m: No module named 'cv_expt'"
     ]
    }
   ],
   "source": []
  },
  {
   "cell_type": "code",
   "execution_count": null,
   "metadata": {},
   "outputs": [],
   "source": []
  }
 ],
 "metadata": {
  "kernelspec": {
   "display_name": "Python 3",
   "language": "python",
   "name": "python3"
  },
  "language_info": {
   "codemirror_mode": {
    "name": "ipython",
    "version": 3
   },
   "file_extension": ".py",
   "mimetype": "text/x-python",
   "name": "python",
   "nbconvert_exporter": "python",
   "pygments_lexer": "ipython3",
   "version": "3.11.9"
  }
 },
 "nbformat": 4,
 "nbformat_minor": 2
}
